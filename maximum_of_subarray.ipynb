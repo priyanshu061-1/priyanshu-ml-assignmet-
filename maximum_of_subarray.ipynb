{
  "nbformat": 4,
  "nbformat_minor": 0,
  "metadata": {
    "colab": {
      "provenance": []
    },
    "kernelspec": {
      "name": "python3",
      "display_name": "Python 3"
    },
    "language_info": {
      "name": "python"
    }
  },
  "cells": [
    {
      "cell_type": "code",
      "execution_count": 3,
      "metadata": {
        "id": "TTclPoayv4sl",
        "colab": {
          "base_uri": "https://localhost:8080/"
        },
        "outputId": "3d587dd4-88f0-42dc-9629-afb650abdeb2"
      },
      "outputs": [
        {
          "output_type": "stream",
          "name": "stdout",
          "text": [
            "[3, 3, 4, 5, 5, 5, 6]\n"
          ]
        }
      ],
      "source": [
        "def maxofsubarray(arr,k):\n",
        "  n=len(arr)\n",
        "\n",
        "  res=[]\n",
        "  for i in range(n-k+1):\n",
        "    max_ele=max(arr[i:i+k])\n",
        "    res.append(max_ele)\n",
        "  return res\n",
        "\n",
        "arr=[1,2,3,1,4,5,2,3,6]\n",
        "k=3\n",
        "print(maxofsubarray(arr,k))"
      ]
    },
    {
      "cell_type": "code",
      "source": [
        "__"
      ],
      "metadata": {
        "id": "UTgwrp5DCN4t"
      },
      "execution_count": null,
      "outputs": []
    }
  ]
}